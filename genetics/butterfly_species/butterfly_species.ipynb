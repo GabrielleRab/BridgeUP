{
 "cells": [
  {
   "cell_type": "markdown",
   "metadata": {
    "deletable": true,
    "editable": true
   },
   "source": [
    "# Identifying Butterfly Species\n",
    "\n",
    "In this notebook you will get to use your transcription and translation functions to analyze the same gene from four butterflies and find out which pairs are the same species!"
   ]
  },
  {
   "cell_type": "markdown",
   "metadata": {
    "deletable": true,
    "editable": true
   },
   "source": [
    "First, copy and paste your transcription and translation functions here:"
   ]
  },
  {
   "cell_type": "code",
   "execution_count": 1,
   "metadata": {
    "collapsed": true,
    "deletable": true,
    "editable": true
   },
   "outputs": [],
   "source": [
    "# Paste your transcription function here\n",
    "def transcribe(DNAseq):\n",
    "    bpDict = {\"C\":\"G\", \"G\":\"C\", \"A\":\"U\", \"T\":\"A\"}\n",
    "    RNA = \"\"\n",
    "    for base in DNAseq:\n",
    "        RNA += bpDict[base]\n",
    "    return RNA"
   ]
  },
  {
   "cell_type": "code",
   "execution_count": 2,
   "metadata": {
    "collapsed": true,
    "deletable": true,
    "editable": true
   },
   "outputs": [],
   "source": [
    "# Paste your translation function here\n",
    "def translate(rnaseq):\n",
    "    ProteinDict = {\"UUU\":\"F\", \"UUC\":\"F\", \"UUA\":\"L\", \"UUG\":\"L\", \"CUU\":\"L\", \"CUC\":\"L\", \"CUA\":\"L\", \"CUG\":\"L\", \"AUU\":\"I\", \"AUC\":\"I\", \"AUA\":\"I\", \"AUG\":\"M\", \"GUU\":\"V\", \"GUC\":\"V\", \"GUA\":\"V\", \"GUG\":\"V\", \"UCU\":\"S\", \"UCC\":\"S\", \"UCA\":\"S\", \"UCG\":\"S\", \"CCU\":\"P\", \"CCC\":\"P\", \"CCA\":\"P\", \"CCG\":\"P\", \"ACU\":\"T\", \"ACC\":\"T\", \"ACA\":\"T\", \"ACG\":\"T\", \"GCU\":\"A\", \"GCC\":\"A\", \"GCA\":\"A\", \"GCG\":\"A\", \"UAU\":\"Y\", \"UAC\":\"Y\", \"UAA\":\"\", \"UAG\":\"\", \"CAU\":\"H\", \"CAC\":\"H\", \"CAA\":\"Q\", \"CAG\":\"Q\", \"AAU\": \"N\", \"AAC\":\"N\", \"AAA\":\"K\", \"AAG\":\"K\", \"GAU\":\"D\", \"GAC\":\"D\", \"GAA\":\"E\", \"GAG\":\"E\", \"UGU\":\"C\", \"UGC\":\"C\", \"UGA\":\"\", \"UGG\":\"W\", \"CGU\":\"R\", \"CGC\":\"R\", \"CGA\":\"R\", \"CGG\":\"R\", \"AGU\":\"S\", \"AGC\":\"S\", \"AGA\":\"R\", \"AGG\":\"R\", \"GGU\":\"G\", \"GGC\":\"G\", \"GGA\":\"G\", \"GGG\":\"G\"}\n",
    "    codon = \"\"\n",
    "    protein = \"\"\n",
    "    for base in rnaseq:\n",
    "        codon += base\n",
    "        if len(codon) == 3:\n",
    "            protein += ProteinDict[codon]\n",
    "            codon = \"\"\n",
    "    return protein"
   ]
  },
  {
   "cell_type": "markdown",
   "metadata": {
    "deletable": true,
    "editable": true
   },
   "source": [
    "Next, open the four files, read them as strings, and assign them to variables:"
   ]
  },
  {
   "cell_type": "code",
   "execution_count": 3,
   "metadata": {
    "collapsed": true,
    "deletable": true,
    "editable": true
   },
   "outputs": [],
   "source": [
    "# You will need the open() function and the .read() method\n",
    "DNAseqA = open(\"Butterfly_A_DNA.txt\").read()\n",
    "DNAseqB = open(\"Butterfly_B_DNA.txt\").read() \n",
    "DNAseqC = open(\"Butterfly_C_DNA.txt\").read() \n",
    "DNAseqD = open(\"Butterfly_D_DNA.txt\").read()"
   ]
  },
  {
   "cell_type": "markdown",
   "metadata": {},
   "source": [
    "Next find the amino acid sequence for each butterfly and store it in a variable."
   ]
  },
  {
   "cell_type": "code",
   "execution_count": 7,
   "metadata": {
    "collapsed": false
   },
   "outputs": [],
   "source": [
    "# Hint: You will need to use your functions\n",
    "protA = translate(transcribe(DNAseqA))\n",
    "protB = translate(transcribe(DNAseqB))\n",
    "protC = translate(transcribe(DNAseqC))\n",
    "protD = translate(transcribe(DNAseqD))"
   ]
  },
  {
   "cell_type": "markdown",
   "metadata": {},
   "source": [
    "Are there any differences in the protein sequences? \n",
    "Create a function that compares two sequences and prints out the number of differences:"
   ]
  },
  {
   "cell_type": "code",
   "execution_count": 9,
   "metadata": {
    "collapsed": false
   },
   "outputs": [],
   "source": [
    "# Hint, you will need the enumerate() function. You can use this in \"for loops\" that loop through strings or lists.\n",
    "# Remember, you must specify two variables in your \"for loop\": one for the index counter and one for the character.\n",
    "\n",
    "def diffNum(seq1, seq2):\n",
    "    diffNum = 0\n",
    "    for i, aa in enumerate(seq1):\n",
    "        if seq2[i] != aa:\n",
    "            diffNum += 1\n",
    "    print(\"There are\",diffNum,\"differences\")"
   ]
  },
  {
   "cell_type": "markdown",
   "metadata": {},
   "source": [
    "Run your function for each pair of butterfly protein sequences:"
   ]
  },
  {
   "cell_type": "code",
   "execution_count": 11,
   "metadata": {
    "collapsed": false
   },
   "outputs": [
    {
     "name": "stdout",
     "output_type": "stream",
     "text": [
      "There are 0 differences\n",
      "There are 0 differences\n",
      "There are 0 differences\n",
      "There are 0 differences\n",
      "There are 0 differences\n",
      "There are 0 differences\n"
     ]
    }
   ],
   "source": [
    "# Hint: You will need to run the function 6 times\n",
    "diffNum(protA, protB)\n",
    "diffNum(protA, protC)\n",
    "diffNum(protA, protD)\n",
    "diffNum(protB, protC)\n",
    "diffNum(protB, protD)\n",
    "diffNum(protC, protD)"
   ]
  },
  {
   "cell_type": "markdown",
   "metadata": {},
   "source": [
    "If you got 0 differences for all 6, that's correct! We'll have to look elsewhere for the differences in the butterfly genes.\n",
    "\n",
    "Try running your function for the DNA sequences instead of the protein sequences:"
   ]
  },
  {
   "cell_type": "code",
   "execution_count": 12,
   "metadata": {
    "collapsed": false
   },
   "outputs": [
    {
     "name": "stdout",
     "output_type": "stream",
     "text": [
      "There are 15 differences\n",
      "There are 4 differences\n",
      "There are 20 differences\n",
      "There are 15 differences\n",
      "There are 13 differences\n",
      "There are 20 differences\n"
     ]
    }
   ],
   "source": [
    "diffNum(DNAseqA, DNAseqB)\n",
    "diffNum(DNAseqA, DNAseqC)\n",
    "diffNum(DNAseqA, DNAseqD)\n",
    "diffNum(DNAseqB, DNAseqC)\n",
    "diffNum(DNAseqB, DNAseqD)\n",
    "diffNum(DNAseqC, DNAseqD)"
   ]
  },
  {
   "cell_type": "markdown",
   "metadata": {},
   "source": [
    "Based on the number of differences, do you have a guess about which two butterflies are the same species?"
   ]
  },
  {
   "cell_type": "markdown",
   "metadata": {},
   "source": [
    "## Exploring SNPs\n",
    "These DNA differences are actually known variations between species. Called \"single nucleotide polymorphisms\" or SNPs, they can be used to identify a particular species. \n",
    "\n",
    "Using the two dictionaries below, create a function that takes a DNA sequence and identifies the butterfly species:"
   ]
  },
  {
   "cell_type": "code",
   "execution_count": 32,
   "metadata": {
    "collapsed": false
   },
   "outputs": [],
   "source": [
    "# melpomene and erato are two Heliconius butterfly species\n",
    "# These dictionaries have the DNA basepair # as the key and the chemical base as the value\n",
    "\n",
    "melpomene = {36:\"A\", 156:\"C\", 177:\"T\", 213:\"C\", 276:\"A\", 291:\"A\", 315:\"A\", 333:\"G\", 405:\"C\"}\n",
    "erato = {36:\"G\", 156:\"T\", 177:\"C\", 213:\"T\", 276:\"C\", 291:\"G\", 315:\"C\", 333:\"A\", 405:\"T\"}\n",
    "\n",
    "def speciesID(seq):\n",
    "    for key in melpomene:\n",
    "        if seq[key-1] == melpomene[key]:\n",
    "            print(\"According to base\",key,\"this butterfly is a melpomene\")\n",
    "        elif seq[key-1] == erato[key]:\n",
    "            print(\"According to base\",key,\"this butterfly is an erato\")\n",
    "        else:\n",
    "            print(\"I do not know what species this butterfly is\")"
   ]
  },
  {
   "cell_type": "markdown",
   "metadata": {},
   "source": [
    "Call your function for all four butterfly DNA sequences:"
   ]
  },
  {
   "cell_type": "code",
   "execution_count": 33,
   "metadata": {
    "collapsed": false
   },
   "outputs": [
    {
     "name": "stdout",
     "output_type": "stream",
     "text": [
      "According to base 177 this butterfly is a melpomene\n",
      "According to base 291 this butterfly is a melpomene\n",
      "According to base 36 this butterfly is a melpomene\n",
      "According to base 213 this butterfly is a melpomene\n",
      "According to base 276 this butterfly is a melpomene\n",
      "According to base 315 this butterfly is a melpomene\n",
      "According to base 156 this butterfly is a melpomene\n",
      "According to base 333 this butterfly is a melpomene\n",
      "According to base 405 this butterfly is a melpomene\n",
      "According to base 177 this butterfly is an erato\n",
      "According to base 291 this butterfly is an erato\n",
      "According to base 36 this butterfly is an erato\n",
      "According to base 213 this butterfly is an erato\n",
      "According to base 276 this butterfly is an erato\n",
      "According to base 315 this butterfly is an erato\n",
      "According to base 156 this butterfly is an erato\n",
      "According to base 333 this butterfly is an erato\n",
      "According to base 405 this butterfly is an erato\n",
      "According to base 177 this butterfly is a melpomene\n",
      "According to base 291 this butterfly is a melpomene\n",
      "According to base 36 this butterfly is a melpomene\n",
      "According to base 213 this butterfly is a melpomene\n",
      "According to base 276 this butterfly is a melpomene\n",
      "According to base 315 this butterfly is a melpomene\n",
      "According to base 156 this butterfly is a melpomene\n",
      "According to base 333 this butterfly is a melpomene\n",
      "According to base 405 this butterfly is a melpomene\n",
      "According to base 177 this butterfly is an erato\n",
      "According to base 291 this butterfly is an erato\n",
      "According to base 36 this butterfly is an erato\n",
      "According to base 213 this butterfly is an erato\n",
      "According to base 276 this butterfly is an erato\n",
      "According to base 315 this butterfly is an erato\n",
      "According to base 156 this butterfly is an erato\n",
      "According to base 333 this butterfly is an erato\n",
      "According to base 405 this butterfly is an erato\n"
     ]
    }
   ],
   "source": [
    "speciesID(DNAseqA)\n",
    "speciesID(DNAseqB)\n",
    "speciesID(DNAseqC)\n",
    "speciesID(DNAseqD)"
   ]
  },
  {
   "cell_type": "markdown",
   "metadata": {},
   "source": [
    "## Coding Challenge\n",
    "Why do you think these changes to the DNA sequences don't have any effect on the protein sequence?\n",
    "\n",
    "Write a function that tests your hypothesis:"
   ]
  },
  {
   "cell_type": "code",
   "execution_count": null,
   "metadata": {
    "collapsed": true
   },
   "outputs": [],
   "source": []
  }
 ],
 "metadata": {
  "kernelspec": {
   "display_name": "Python 3",
   "language": "python",
   "name": "python3"
  },
  "language_info": {
   "codemirror_mode": {
    "name": "ipython",
    "version": 3
   },
   "file_extension": ".py",
   "mimetype": "text/x-python",
   "name": "python",
   "nbconvert_exporter": "python",
   "pygments_lexer": "ipython3",
   "version": "3.5.2"
  }
 },
 "nbformat": 4,
 "nbformat_minor": 2
}
