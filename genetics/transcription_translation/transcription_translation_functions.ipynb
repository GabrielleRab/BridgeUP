{
 "cells": [
  {
   "cell_type": "markdown",
   "metadata": {
    "deletable": true,
    "editable": true
   },
   "source": [
    "# Creating transcription and translation functions\n",
    "\n",
    "In this notebook you will learn how to create a function that takes a DNA sequence and outputs the corresponding RNA sequence (transcription) and a function that takes an RNA sequence and outputs the corresponding peptide sequence (translation)."
   ]
  },
  {
   "cell_type": "markdown",
   "metadata": {
    "deletable": true,
    "editable": true
   },
   "source": [
    "### *Pair programming: Choose a typing partner and a guiding partner for the first function!*"
   ]
  },
  {
   "cell_type": "markdown",
   "metadata": {
    "deletable": true,
    "editable": true
   },
   "source": [
    "In the \"Central Dogma\" game you only transcribed and translated the first 10 codons of each protein. For this coding exercise you will use the entire DNA sequences (400-1,000 base pairs!). \n",
    "<br>\n",
    "<br>\n",
    "The sequences are saved as text files so you will need to create a variable for each gene and use the open() function to assign each sequence to a variable. "
   ]
  },
  {
   "cell_type": "code",
   "execution_count": 1,
   "metadata": {
    "collapsed": false,
    "deletable": true,
    "editable": true
   },
   "outputs": [
    {
     "name": "stdout",
     "output_type": "stream",
     "text": [
      "<class '_io.TextIOWrapper'>\n",
      "<class '_io.TextIOWrapper'>\n",
      "<class '_io.TextIOWrapper'>\n"
     ]
    }
   ],
   "source": [
    "# Create a variable for each gene and use the open() function \n",
    "# to open each text file and assign its contents to a variable\n",
    "HisDNAFile = open(\"Histamine_receptor_DNA.txt\")\n",
    "KerDNAFile = open(\"Keratin_DNA.txt\")\n",
    "ColDNAFile = open(\"Collagen_DNA.txt\")\n",
    "\n",
    "# print out the type of each variable\n",
    "print(type(HisDNAFile))\n",
    "print(type(KerDNAFile))\n",
    "print(type(ColDNAFile))"
   ]
  },
  {
   "cell_type": "markdown",
   "metadata": {
    "deletable": true,
    "editable": true
   },
   "source": [
    "You need to \"read\" the sequence in each variable you just created and store it in a new variable so that we have a string we can work with. "
   ]
  },
  {
   "cell_type": "code",
   "execution_count": 2,
   "metadata": {
    "collapsed": false,
    "deletable": true,
    "editable": true
   },
   "outputs": [
    {
     "name": "stdout",
     "output_type": "stream",
     "text": [
      "<class 'str'>\n",
      "<class 'str'>\n",
      "<class 'str'>\n"
     ]
    }
   ],
   "source": [
    "# Read the sequences into new variables. Hint: you will need to use the .read() function.\n",
    "HisDNA = HisDNAFile.read()\n",
    "KerDNA = KerDNAFile.read()\n",
    "ColDNA = ColDNAFile.read()\n",
    "\n",
    "# print out the type of each new variable\n",
    "print(type(HisDNA))\n",
    "print(type(KerDNA))\n",
    "print(type(ColDNA))"
   ]
  },
  {
   "cell_type": "markdown",
   "metadata": {
    "deletable": true,
    "editable": true
   },
   "source": [
    "Now that we've assigned our sequences to variables, we can get started on the first function, \"transcribe\". This function will take a DNA sequence as an argument and return the corresponding RNA sequence.\n",
    "<br>\n",
    "<br>\n",
    "Remember, A -> U, T -> A, G -> C, and C -> G"
   ]
  },
  {
   "cell_type": "code",
   "execution_count": 3,
   "metadata": {
    "collapsed": true,
    "deletable": true,
    "editable": true
   },
   "outputs": [],
   "source": [
    "# Create your transcribe function here. Hint: You will need a \"for loop\" and conditionals.\n",
    "def transcription(DNAseq):\n",
    "    RNA = \"\"\n",
    "    for base in DNAseq:\n",
    "        if base == \"C\":\n",
    "            RNA += \"G\"\n",
    "        elif base == \"G\":\n",
    "            RNA += \"C\"\n",
    "        elif base == \"A\":\n",
    "            RNA += \"U\"\n",
    "        elif base == \"T\":\n",
    "            RNA += \"A\"\n",
    "        else:\n",
    "            continue\n",
    "    return RNA "
   ]
  },
  {
   "cell_type": "code",
   "execution_count": 4,
   "metadata": {
    "collapsed": false,
    "deletable": true,
    "editable": true
   },
   "outputs": [
    {
     "name": "stdout",
     "output_type": "stream",
     "text": [
      "AUGGCACCCAAUGGCACAGCCUCUUCCUUUUGCCUGGACUCUACCGCAUGCAAGAUCACCAUCACCGUGGUCCUUGCGGUCCUCAUCCUCAUCACCGUUGCUGGCAAUGUGGUCGUCUGUCUGGCCGUGGGCUUGAACCGCCGGCUCCGCAACCUGACCAAUUGUUUCAUCGUGUCCUUGGCUAUCACUGACCUGCUCCUCGGCCUCCUGGUGCUGCCCUUCUCUGCCAUCUACCAGCUGUCCUGCAAGUGGAGCUUUGGCAAGGUCUUCUGCAAUAUCUACACCAGCCUGGAUGUGAUGCUCUGCACAGCCUCCAUUCUUAACCUCUUCAUGAUCAGCCUCGACCGGUACUGCGCUGUCAUGGACCCACUGCGGUACCCUGUGCUGGUCACCCCAGUUCGGGUCGCCAUCUCUCUGGUCUUAAUUUGGGUCAUCUCCAUUACCCUGUCCUUUCUGUCUAUCCACCUGGGGUGGAACAGCAGGAACGAGACCAGCAAGGGCAAUCAUACCACCUCUAAGUGCAAAGUCCAGGUCAAUGAAGUGUACGGGCUGGUGGAUGGGCUGGUCACCUUCUACCUCCCGCUACUGAUCAUGUGCAUCACCUACUACCGCAUCUUCAAGGUCGCCCGGGAUCAGGCCAAGAGGAUCAAUCACAUUAGCUCCUGGAAGGCAGCCACCAUCAGGGAGCACAAAGCCACAGUGACACUGGCCGCCGUCAUGGGGGCCUUCAUCAUCUGCUGGUUUCCCUACUUCACCGCGUUUGUGUACCGUGGGCUGAGAGGGGAUGAUGCCAUCAAUGAGGUGUUAGAAGCCAUCGUUCUGUGGCUGGGCUAUGCCAACUCAGCCCUGAACCCCAUCCUGUAUGCUGCGCUGAACAGAGACUUCCGCACCGGGUACCAACAGCUCUUCUGCUGCAGGCUGGCCAACCGCAACUCCCACAAAACUUCUCUGAGGUCCAACGCCUCUCAGCUGUCCAGGACCCAAAGCCGAGAACCCAGGCAACAGGAAGAGAAACCCCUGAAGCUCCAGGUGUGGAGUGGGACAGAAGUCACGGCCCCCCAGGGAGCCACAGACAGGUAA\n"
     ]
    }
   ],
   "source": [
    "# Call your function for the first sequence and print out the results\n",
    "print(transcription(HisDNA))"
   ]
  },
  {
   "cell_type": "markdown",
   "metadata": {
    "deletable": true,
    "editable": true
   },
   "source": [
    "You can save your results as a text file! First, open a new text file with whatever name you would like call your results. Include the \"w\" argument to make sure this is a writeable file."
   ]
  },
  {
   "cell_type": "code",
   "execution_count": 5,
   "metadata": {
    "collapsed": true,
    "deletable": true,
    "editable": true
   },
   "outputs": [],
   "source": [
    "# Example: f = open(\"HisRNA.txt\", \"w\")\n",
    "f = open(\"HisRNA.txt\", \"w\")"
   ]
  },
  {
   "cell_type": "markdown",
   "metadata": {
    "deletable": true,
    "editable": true
   },
   "source": [
    "Next, use the .write() function with your function call as the argument to create the file."
   ]
  },
  {
   "cell_type": "code",
   "execution_count": 6,
   "metadata": {
    "collapsed": true,
    "deletable": true,
    "editable": true
   },
   "outputs": [],
   "source": [
    "# Write a new text file!\n",
    "f.write(transcription(HisDNA))\n",
    "f.close()"
   ]
  },
  {
   "cell_type": "markdown",
   "metadata": {
    "deletable": true,
    "editable": true
   },
   "source": [
    "Check your downloads folder (or wherever you've put this Jupyter Notebook file) to see if you've created a new text file.\n",
    "<br>\n",
    "<br>\n",
    "Now create text files for the other two RNA sequences (you'll need to call your transcription function with a new argument each time)."
   ]
  },
  {
   "cell_type": "code",
   "execution_count": 7,
   "metadata": {
    "collapsed": true,
    "deletable": true,
    "editable": true
   },
   "outputs": [],
   "source": [
    "f = open(\"KerRNA.txt\", \"w\")\n",
    "f.write(transcription(KerDNA))\n",
    "f.close()\n",
    "\n",
    "f = open(\"ColRNA.txt\", \"w\")\n",
    "f.write(transcription(ColDNA))\n",
    "f.close()"
   ]
  },
  {
   "cell_type": "markdown",
   "metadata": {
    "deletable": true,
    "editable": true
   },
   "source": [
    "### *Pair programming swap: Typing partner becomes the guiding partner and vice versa*"
   ]
  },
  {
   "cell_type": "markdown",
   "metadata": {
    "deletable": true,
    "editable": true
   },
   "source": [
    "Congratulations! You've transcribed DNA sequences and created mRNA. Now it's time to translate that message and find the amino acid sequence of the protein.\n",
    "<br>\n",
    "<br>\n",
    "Here's a chart to help you out:"
   ]
  },
  {
   "cell_type": "markdown",
   "metadata": {
    "deletable": true,
    "editable": true
   },
   "source": [
    "<img src=\"https://archive.manylabs.org/file/lessonMedia/69/geneticCode.png\" width=\"500px\" height=\"500px\" align=\"left\" />"
   ]
  },
  {
   "cell_type": "markdown",
   "metadata": {
    "deletable": true,
    "editable": true
   },
   "source": [
    "You need to create a function that takes an RNA sequence as its argument and returns the correct amino acid sequence.\n",
    "\n",
    "Here are some hints:\n",
    "- x % y finds the remainder of x divided by y\n",
    "- you can check for more than one option in a conditional like this:\n",
    "if x < 3 or x > 6:\n",
    "- You will need a counter, a \"for loop\", and conditionals"
   ]
  },
  {
   "cell_type": "code",
   "execution_count": 8,
   "metadata": {
    "collapsed": true,
    "deletable": true,
    "editable": true
   },
   "outputs": [],
   "source": [
    "# Create your function here\n",
    "\n",
    "def translation(RNAseq):\n",
    "    c = 0\n",
    "    prot = \"\"\n",
    "    codon = \"\"\n",
    "    for base in RNAseq:\n",
    "        c += 1\n",
    "        if c % 3 == 0:\n",
    "            codon += base\n",
    "            if codon == \"UUU\" or codon == \"UUC\":\n",
    "                prot += \"F\"\n",
    "            elif codon == \"UUA\" or codon == \"UUG\" or codon == \"CUU\" or codon == \"CUC\" or codon == \"CUA\" or codon == \"CUG\":\n",
    "                prot += \"L\"\n",
    "            elif codon == \"AUU\" or codon == \"AUC\" or codon == \"AUA\":\n",
    "                prot += \"I\"\n",
    "            elif codon == \"AUG\":\n",
    "                prot += \"M\"\n",
    "            elif codon == \"GUU\" or codon == \"GUC\" or codon == \"GUA\" or codon == \"GUG\":\n",
    "                prot += \"V\"\n",
    "            elif codon == \"UCU\" or codon == \"UCC\" or codon == \"UCA\" or codon == \"UCG\":\n",
    "                prot += \"S\"\n",
    "            elif codon == \"CCU\" or codon == \"CCC\" or codon == \"CCA\" or codon == \"CCG\":\n",
    "                prot += \"P\"\n",
    "            elif codon == \"ACU\" or codon == \"ACC\" or codon == \"ACA\" or codon == \"ACG\":\n",
    "                prot += \"T\"\n",
    "            elif codon == \"GCU\" or codon == \"GCC\" or codon == \"GCA\" or codon == \"GCG\":\n",
    "                prot += \"A\"\n",
    "            elif codon == \"UAU\" or codon == \"UAC\":\n",
    "                prot += \"Y\"\n",
    "            elif codon == \"UAA\" or codon == \"UAG\" or codon == \"UGA\":\n",
    "                prot += \"STOP\"\n",
    "            elif codon == \"CAU\" or codon == \"CAC\":\n",
    "                prot += \"H\"\n",
    "            elif codon == \"CAA\" or codon == \"CAG\":\n",
    "                prot += \"Q\"\n",
    "            elif codon == \"AAU\" or codon == \"AAC\":\n",
    "                prot += \"N\"\n",
    "            elif codon == \"AAA\" or codon == \"AAG\":\n",
    "                prot += \"K\"\n",
    "            elif codon == \"GAU\" or codon == \"GAC\":\n",
    "                prot += \"D\"\n",
    "            elif codon == \"GAA\" or codon == \"GAG\":\n",
    "                prot += \"E\"\n",
    "            elif codon == \"UGU\" or codon == \"UGC\":\n",
    "                prot += \"C\"\n",
    "            elif codon == \"UGG\":\n",
    "                prot += \"W\"\n",
    "            elif codon == \"CGU\" or codon == \"CGC\" or codon == \"CGA\" or codon == \"CGG\":\n",
    "                prot += \"R\"\n",
    "            elif codon == \"AGU\" or codon == \"AGC\":\n",
    "                prot += \"S\"\n",
    "            elif codon == \"AGA\" or codon == \"AGG\":\n",
    "                prot += \"R\"\n",
    "            elif codon == \"GGU\" or codon == \"GGC\" or codon == \"GGA\" or codon == \"GGG\":\n",
    "                prot += \"G\"\n",
    "            else:\n",
    "                codon = \"\"\n",
    "            codon = \"\"\n",
    "            c = 0\n",
    "        else:\n",
    "            codon += base\n",
    "    return prot\n"
   ]
  },
  {
   "cell_type": "markdown",
   "metadata": {
    "deletable": true,
    "editable": true
   },
   "source": [
    "Call your function for one of your RNA files (You can either read in one of the text files you just created or just call your first function to get an RNA sequence). Print out the results!"
   ]
  },
  {
   "cell_type": "code",
   "execution_count": 9,
   "metadata": {
    "collapsed": false,
    "deletable": true,
    "editable": true
   },
   "outputs": [
    {
     "name": "stdout",
     "output_type": "stream",
     "text": [
      "MAPNGTASSFCLDSTACKITITVVLAVLILITVAGNVVVCLAVGLNRRLRNLTNCFIVSLAITDLLLGLLVLPFSAIYQLSCKWSFGKVFCNIYTSLDVMLCTASILNLFMISLDRYCAVMDPLRYPVLVTPVRVAISLVLIWVISITLSFLSIHLGWNSRNETSKGNHTTSKCKVQVNEVYGLVDGLVTFYLPLLIMCITYYRIFKVARDQAKRINHISSWKAATIREHKATVTLAAVMGAFIICWFPYFTAFVYRGLRGDDAINEVLEAIVLWLGYANSALNPILYAALNRDFRTGYQQLFCCRLANRNSHKTSLRSNASQLSRTQSREPRQQEEKPLKLQVWSGTEVTAPQGATDRSTOP\n"
     ]
    }
   ],
   "source": [
    "print(translation(transcription(HisDNA)))"
   ]
  },
  {
   "cell_type": "markdown",
   "metadata": {
    "deletable": true,
    "editable": true
   },
   "source": [
    "Now create text files for each of your amino acid sequences."
   ]
  },
  {
   "cell_type": "code",
   "execution_count": 10,
   "metadata": {
    "collapsed": true,
    "deletable": true,
    "editable": true
   },
   "outputs": [],
   "source": [
    "f = open(\"Hisprot.txt\", \"w\")\n",
    "f.write(translation(transcription(HisDNA)))\n",
    "f.close()\n",
    "\n",
    "f = open(\"Kerprot.txt\", \"w\")\n",
    "f.write(translation(transcription(KerDNA)))\n",
    "f.close()\n",
    "\n",
    "f = open(\"Colprot.txt\", \"w\")\n",
    "f.write(translation(transcription(ColDNA)))\n",
    "f.close()"
   ]
  },
  {
   "cell_type": "markdown",
   "metadata": {
    "deletable": true,
    "editable": true
   },
   "source": [
    "### *Bonus challenge 1: choose a partner to type and one to guide*"
   ]
  },
  {
   "cell_type": "markdown",
   "metadata": {
    "deletable": true,
    "editable": true
   },
   "source": [
    "Not all DNA encodes for a protein. The molecular machinery inside a cell uses a special codon called a \"start\" codon to know when to start translating the mRNA into a protein. For most genes this codon is \"AUG\".\n",
    "\n",
    "Can you modify your translation function to scan through your RNA sequence until it finds an \"AUG\" codon before it starts creating an amino acid string?\n",
    "\n",
    "Copy and paste your translation function below and make any necessary changes."
   ]
  },
  {
   "cell_type": "code",
   "execution_count": null,
   "metadata": {
    "collapsed": true,
    "deletable": true,
    "editable": true
   },
   "outputs": [],
   "source": [
    "# Hint: != means \"does not equal\"\n",
    "\n",
    "def starttranslation(RNAseq):\n",
    "    c = 0\n",
    "    prot = \"\"\n",
    "    codon = \"\"\n",
    "    for base in RNAseq:\n",
    "        c += 1\n",
    "        if c % 3 == 0:\n",
    "            codon += base\n",
    "            if codon != \"AUG\":\n",
    "                codon = \"\"\n",
    "            else:\n",
    "                if codon == \"UUU\" or codon == \"UUC\":\n",
    "                    prot += \"F\"\n",
    "                elif codon == \"UUA\" or codon == \"UUG\" or codon == \"CUU\" or codon == \"CUC\" or codon == \"CUA\" or codon == \"CUG\":\n",
    "                    prot += \"L\"\n",
    "                elif codon == \"AUU\" or codon == \"AUC\" or codon == \"AUA\":\n",
    "                    prot += \"I\"\n",
    "                elif codon == \"AUG\":\n",
    "                    prot += \"M\"\n",
    "                elif codon == \"GUU\" or codon == \"GUC\" or codon == \"GUA\" or codon == \"GUG\":\n",
    "                    prot += \"V\"\n",
    "                elif codon == \"UCU\" or codon == \"UCC\" or codon == \"UCA\" or codon == \"UCG\":\n",
    "                    prot += \"S\"\n",
    "                elif codon == \"CCU\" or codon == \"CCC\" or codon == \"CCA\" or codon == \"CCG\":\n",
    "                    prot += \"P\"\n",
    "                elif codon == \"ACU\" or codon == \"ACC\" or codon == \"ACA\" or codon == \"ACG\":\n",
    "                    prot += \"T\"\n",
    "                elif codon == \"GCU\" or codon == \"GCC\" or codon == \"GCA\" or codon == \"GCG\":\n",
    "                    prot += \"A\"\n",
    "                elif codon == \"UAU\" or codon == \"UAC\":\n",
    "                    prot += \"Y\"\n",
    "                elif codon == \"UAA\" or codon == \"UAG\" or codon == \"UGA\":\n",
    "                    prot += \"STOP\"\n",
    "                elif codon == \"CAU\" or codon == \"CAC\":\n",
    "                    prot += \"H\"\n",
    "                elif codon == \"CAA\" or codon == \"CAG\":\n",
    "                    prot += \"Q\"\n",
    "                elif codon == \"AAU\" or codon == \"AAC\":\n",
    "                    prot += \"N\"\n",
    "                elif codon == \"AAA\" or codon == \"AAG\":\n",
    "                    prot += \"K\"\n",
    "                elif codon == \"GAU\" or codon == \"GAC\":\n",
    "                    prot += \"D\"\n",
    "                elif codon == \"GAA\" or codon == \"GAG\":\n",
    "                    prot += \"E\"\n",
    "                elif codon == \"UGU\" or codon == \"UGC\":\n",
    "                    prot += \"C\"\n",
    "                elif codon == \"UGG\":\n",
    "                    prot += \"W\"\n",
    "                elif codon == \"CGU\" or codon == \"CGC\" or codon == \"CGA\" or codon == \"CGG\":\n",
    "                    prot += \"R\"\n",
    "                elif codon == \"AGU\" or codon == \"AGC\":\n",
    "                    prot += \"S\"\n",
    "                elif codon == \"AGA\" or codon == \"AGG\":\n",
    "                    prot += \"R\"\n",
    "                elif codon == \"GGU\" or codon == \"GGC\" or codon == \"GGA\" or codon == \"GGG\":\n",
    "                    prot += \"G\"\n",
    "                else:\n",
    "                    codon = \"\"\n",
    "                codon = \"\"\n",
    "                c = 0\n",
    "        else:\n",
    "            codon += base\n",
    "    return prot"
   ]
  },
  {
   "cell_type": "markdown",
   "metadata": {
    "deletable": true,
    "editable": true
   },
   "source": [
    "### *Bonus challenge 2: switch typing partner and guiding partner*"
   ]
  },
  {
   "cell_type": "markdown",
   "metadata": {
    "deletable": true,
    "editable": true
   },
   "source": [
    "For this challenge, you will be learning about a new data type: dictionaries.\n",
    "\n",
    "Dictionaries are kind of like lists, but instead of storing single items they store pairs of items called \"values\" and \"keys\". The first item in the pair is the key and the second one is the value.\n",
    "As you know, lists are defined with []. Dictionaries are defined with {}.\n",
    "\n",
    "Here's a sample dictionary:\n",
    "Ages = {\"Jane\":13, \"Maria\":15, \"Arya\":14, \"Nicolette\":15}\n",
    "<br>\n",
    "In this dictionary, a string of each girl's name is the key and an integer of her age is the value.\n",
    "\n",
    "You can pull out a single value by indexing a key. So print(Ages[\"Jane\"]) will print out 13.\n",
    "\n",
    "Try to create a new translation function using a dictionary. The code will be much simpler!"
   ]
  },
  {
   "cell_type": "code",
   "execution_count": null,
   "metadata": {
    "collapsed": true,
    "deletable": true,
    "editable": true
   },
   "outputs": [],
   "source": [
    "def dicttranslate(RNAseq):\n",
    "    codonDict = {\"UUU\":\"F\",\"UUC\":\"F\",\"UUA\":\"L\",\"UUG\":\"L\", \"CUU\":\"L\",\"CUC\":\"L\",\n",
    "    \"CUA\":\"L\",\"CUG\":\"L\",\"AUU\":\"I\",\"AUC\":\"I\",\"AUA\":\"I\",\"AUG\":\"M\",\"GUU\":\"V\",\n",
    "    \"GUC\":\"V\",\"GUA\":\"V\",\"GUG\":\"V\",\"UCU\":\"S\",\"UCC\":\"S\",\"UCA\":\"S\",\"UCG\":\"S\",\n",
    "    \"CCU\":\"P\",\"CCC\":\"P\",\"CCA\":\"P\",\"CCG\":\"P\",\"ACU\":\"T\",\"ACC\":\"T\",\"ACA\":\"T\",\n",
    "    \"ACG\":\"T\",\"GCU\":\"A\",\"GCC\":\"A\",\"GCA\":\"A\",\"GCG\":\"A\",\"UAU\":\"Y\",\"UAC\":\"Y\",\n",
    "    \"UAA\":\"STOP\",\"UAG\":\"STOP\",\"UGA\":\"STOP\",\"CAU\":\"H\",\"CAC\":\"H\",\"CAA\":\"Q\",\n",
    "    \"CAG\":\"Q\",\"AAU\":\"N\",\"AAC\":\"N\",\"AAA\":\"K\",\"AAG\":\"K\",\"GAU\":\"D\",\"GAC\":\"D\",\n",
    "    \"GAA\":\"E\",\"GAG\":\"E\",\"UGU\":\"C\",\"UGC\":\"C\",\"UGG\":\"W\",\"CGU\":\"R\",\"CGC\":\"R\",\n",
    "    \"CGA\":\"R\",\"CGG\":\"R\",\"AGU\":\"S\",\"AGC\":\"S\",\"AGA\":\"R\",\"AGG\":\"R\",\"GGU\":\"G\",\n",
    "    \"GGC\":\"G\",\"GGA\":\"G\",\"GGG\":\"G\"}\n",
    "    c = 0\n",
    "    prot = \"\"\n",
    "    codon = \"\"\n",
    "    for base in RNAseq:\n",
    "        c += 1\n",
    "        if c % 3 == 0:\n",
    "            codon += base\n",
    "            prot += codonDict[codon]\n",
    "            codon = \"\"\n",
    "            c = 0\n",
    "        else:\n",
    "            codon += base\n",
    "    return prot"
   ]
  }
 ],
 "metadata": {
  "kernelspec": {
   "display_name": "Python 3",
   "language": "python",
   "name": "python3"
  },
  "language_info": {
   "codemirror_mode": {
    "name": "ipython",
    "version": 3
   },
   "file_extension": ".py",
   "mimetype": "text/x-python",
   "name": "python",
   "nbconvert_exporter": "python",
   "pygments_lexer": "ipython3",
   "version": "3.5.2"
  }
 },
 "nbformat": 4,
 "nbformat_minor": 2
}
